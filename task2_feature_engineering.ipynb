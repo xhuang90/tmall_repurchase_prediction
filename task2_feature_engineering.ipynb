{
 "cells": [
  {
   "cell_type": "code",
   "execution_count": 1,
   "metadata": {
    "ExecuteTime": {
     "end_time": "2021-01-08T00:41:19.934781Z",
     "start_time": "2021-01-08T00:41:18.239764Z"
    }
   },
   "outputs": [],
   "source": [
    "import numpy as np\n",
    "import pandas as pd\n",
    "import matplotlib.pyplot as plt\n",
    "import seaborn as sns\n",
    "from scipy import stats\n",
    "import time\n",
    "\n",
    "import gc\n",
    "\"\"\"\n",
    "Python中，主要依靠gc（garbage collector）模块的引用计数技术来进行垃圾回收。\n",
    "所谓引用计数，就是考虑到Python中变量的本质不是内存中一块存储数据的区域，而是对一块内存数据区域的引用。\n",
    "所以python可以给所有的对象（内存中的区域）维护一个引用计数的属性，\n",
    "在一个引用被创建或复制的时候，让python把相关对象的引用计数+1；相反当引用被销毁的时候就把相关对象的引用计数-1。\n",
    "当对象的引用计数减到0时，自然就可以认为整个python中不会再有变量引用这个对象，\n",
    "所以就可以把这个对象所占据的内存空间释放出来了。\n",
    "\"\"\"\n",
    "from collections import Counter\n",
    "import copy\n",
    "\n",
    "import warnings\n",
    "warnings.filterwarnings('ignore')\n",
    "\n",
    "%matplotlib inline"
   ]
  },
  {
   "cell_type": "markdown",
   "metadata": {
    "ExecuteTime": {
     "end_time": "2021-01-05T11:06:05.168210Z",
     "start_time": "2021-01-05T11:06:05.164045Z"
    }
   },
   "source": [
    "# 配置路径"
   ]
  },
  {
   "cell_type": "code",
   "execution_count": 2,
   "metadata": {
    "ExecuteTime": {
     "end_time": "2021-01-08T00:41:19.945446Z",
     "start_time": "2021-01-08T00:41:19.936754Z"
    }
   },
   "outputs": [],
   "source": [
    "data_path = 'data/'\n",
    "tmp_res_path = 'tmp_results/'"
   ]
  },
  {
   "cell_type": "markdown",
   "metadata": {
    "ExecuteTime": {
     "end_time": "2021-01-05T11:06:15.361414Z",
     "start_time": "2021-01-05T11:06:15.357543Z"
    }
   },
   "source": [
    "# 读取数据集"
   ]
  },
  {
   "cell_type": "code",
   "execution_count": 3,
   "metadata": {
    "ExecuteTime": {
     "end_time": "2021-01-08T00:41:19.955804Z",
     "start_time": "2021-01-08T00:41:19.950697Z"
    }
   },
   "outputs": [],
   "source": [
    "# 读取数据函数\n",
    "def read_data(file_name):\n",
    "\n",
    "    df = pd.read_csv(data_path + file_name)\n",
    "    df.drop_duplicates(inplace=True)\n",
    "    \n",
    "    return df"
   ]
  },
  {
   "cell_type": "markdown",
   "metadata": {
    "ExecuteTime": {
     "end_time": "2021-01-05T11:09:29.013729Z",
     "start_time": "2021-01-05T11:09:29.007465Z"
    }
   },
   "source": [
    "# 对数据进行内存压缩"
   ]
  },
  {
   "cell_type": "code",
   "execution_count": 4,
   "metadata": {
    "ExecuteTime": {
     "end_time": "2021-01-08T00:41:19.981326Z",
     "start_time": "2021-01-08T00:41:19.962237Z"
    }
   },
   "outputs": [],
   "source": [
    "# 节约内存的一个标配函数\n",
    "def reduce_memory(df, verbose=True):\n",
    "    \n",
    "    starttime = time.time()\n",
    "    numerics = ['int16', 'int32', 'int64', 'float16', 'float32', 'float64']\n",
    "    start_mem = df.memory_usage().sum() / 1024**2\n",
    "    \n",
    "    for col in df.columns:\n",
    "        col_type = df[col].dtypes\n",
    "        if col_type in numerics:\n",
    "            c_min = df[col].min()\n",
    "            c_max = df[col].max()\n",
    "            if pd.isnull(c_min) or pd.isnull(c_max):\n",
    "                continue\n",
    "            if str(col_type)[:3] == 'int':\n",
    "                if c_min > np.iinfo(np.int8).min and c_max < np.iinfo(np.int8).max:\n",
    "                    df[col] = df[col].astype(np.int8)\n",
    "                elif c_min > np.iinfo(np.int16).min and c_max < np.iinfo(np.int16).max:\n",
    "                    df[col] = df[col].astype(np.int16)\n",
    "                elif c_min > np.iinfo(np.int32).min and c_max < np.iinfo(np.int32).max:\n",
    "                    df[col] = df[col].astype(np.int32)\n",
    "                elif c_min > np.iinfo(np.int64).min and c_max < np.iinfo(np.int64).max:\n",
    "                    df[col] = df[col].astype(np.int64)\n",
    "            else:\n",
    "                if c_min > np.finfo(np.float16).min and c_max < np.finfo(np.float16).max:\n",
    "                    df[col] = df[col].astype(np.float16)\n",
    "                elif c_min > np.finfo(np.float32).min and c_max < np.finfo(np.float32).max:\n",
    "                    df[col] = df[col].astype(np.float32)\n",
    "                else:\n",
    "                    df[col] = df[col].astype(np.float64)\n",
    "    end_mem = df.memory_usage().sum() / 1024**2\n",
    "    \n",
    "    print('-- Mem. usage decreased to {:5.2f} Mb ({:.1f}% reduction),time spend:{:2.2f} min'.format(end_mem,\n",
    "                                                                                                           100*(start_mem-end_mem)/start_mem,\n",
    "                                                                                                           (time.time()-starttime)/60))\n",
    "    return df"
   ]
  },
  {
   "cell_type": "code",
   "execution_count": 5,
   "metadata": {
    "ExecuteTime": {
     "end_time": "2021-01-08T00:42:43.157954Z",
     "start_time": "2021-01-08T00:41:19.984375Z"
    }
   },
   "outputs": [
    {
     "name": "stdout",
     "output_type": "stream",
     "text": [
      "-- Mem. usage decreased to  3.73 Mb (53.1% reduction),time spend:0.00 min\n",
      "-- Mem. usage decreased to  5.49 Mb (31.2% reduction),time spend:0.00 min\n",
      "-- Mem. usage decreased to  6.47 Mb (50.0% reduction),time spend:0.00 min\n",
      "-- Mem. usage decreased to 981.69 Mb (60.9% reduction),time spend:0.12 min\n"
     ]
    }
   ],
   "source": [
    "num_of_rows = None\n",
    "\"\"\"\n",
    "# train & test\n",
    "test_data_path = data_path + 'test_format1.csv'\n",
    "train_data_path = data_path + 'train_format1.csv'\n",
    "\n",
    "# user_info & user_log\n",
    "user_info_path = data_path + 'user_info_format1.csv'\n",
    "user_log_path = data_path + 'user_log_format1.csv'\n",
    "\"\"\"\n",
    "# STEP1. read data from csv\n",
    "# train & test\n",
    "test_data = read_data(file_name='test_format1.csv')\n",
    "train_data = read_data(file_name='train_format1.csv')\n",
    "\n",
    "# user_info & user_log\n",
    "user_info = read_data(file_name='user_info_format1.csv')\n",
    "user_log = read_data(file_name='user_log_format1.csv')\n",
    "\n",
    "# STEP2. reduce memory\n",
    "train_data = reduce_memory(train_data)\n",
    "test_data = reduce_memory(test_data)\n",
    "user_info = reduce_memory(user_info)\n",
    "user_log = reduce_memory(user_log)"
   ]
  },
  {
   "cell_type": "markdown",
   "metadata": {
    "ExecuteTime": {
     "end_time": "2021-01-06T02:46:37.209611Z",
     "start_time": "2021-01-06T02:46:13.407Z"
    }
   },
   "source": [
    "# 数据处理"
   ]
  },
  {
   "cell_type": "code",
   "execution_count": 6,
   "metadata": {
    "ExecuteTime": {
     "end_time": "2021-01-08T00:42:43.342057Z",
     "start_time": "2021-01-08T00:42:43.166846Z"
    }
   },
   "outputs": [
    {
     "data": {
      "text/html": [
       "<div>\n",
       "<style scoped>\n",
       "    .dataframe tbody tr th:only-of-type {\n",
       "        vertical-align: middle;\n",
       "    }\n",
       "\n",
       "    .dataframe tbody tr th {\n",
       "        vertical-align: top;\n",
       "    }\n",
       "\n",
       "    .dataframe thead th {\n",
       "        text-align: right;\n",
       "    }\n",
       "</style>\n",
       "<table border=\"1\" class=\"dataframe\">\n",
       "  <thead>\n",
       "    <tr style=\"text-align: right;\">\n",
       "      <th></th>\n",
       "      <th>label</th>\n",
       "      <th>merchant_id</th>\n",
       "      <th>prob</th>\n",
       "      <th>user_id</th>\n",
       "    </tr>\n",
       "  </thead>\n",
       "  <tbody>\n",
       "    <tr>\n",
       "      <th>0</th>\n",
       "      <td>0.0</td>\n",
       "      <td>3906</td>\n",
       "      <td>NaN</td>\n",
       "      <td>34176</td>\n",
       "    </tr>\n",
       "    <tr>\n",
       "      <th>1</th>\n",
       "      <td>0.0</td>\n",
       "      <td>121</td>\n",
       "      <td>NaN</td>\n",
       "      <td>34176</td>\n",
       "    </tr>\n",
       "    <tr>\n",
       "      <th>2</th>\n",
       "      <td>1.0</td>\n",
       "      <td>4356</td>\n",
       "      <td>NaN</td>\n",
       "      <td>34176</td>\n",
       "    </tr>\n",
       "    <tr>\n",
       "      <th>3</th>\n",
       "      <td>0.0</td>\n",
       "      <td>2217</td>\n",
       "      <td>NaN</td>\n",
       "      <td>34176</td>\n",
       "    </tr>\n",
       "    <tr>\n",
       "      <th>4</th>\n",
       "      <td>0.0</td>\n",
       "      <td>4818</td>\n",
       "      <td>NaN</td>\n",
       "      <td>230784</td>\n",
       "    </tr>\n",
       "  </tbody>\n",
       "</table>\n",
       "</div>"
      ],
      "text/plain": [
       "   label  merchant_id  prob  user_id\n",
       "0    0.0         3906   NaN    34176\n",
       "1    0.0          121   NaN    34176\n",
       "2    1.0         4356   NaN    34176\n",
       "3    0.0         2217   NaN    34176\n",
       "4    0.0         4818   NaN   230784"
      ]
     },
     "execution_count": 6,
     "metadata": {},
     "output_type": "execute_result"
    }
   ],
   "source": [
    "# 合并训练&测试数据集\n",
    "df_all_data = train_data.append(test_data)\n",
    "df_all_data.head()"
   ]
  },
  {
   "cell_type": "code",
   "execution_count": 7,
   "metadata": {
    "ExecuteTime": {
     "end_time": "2021-01-08T00:42:43.751670Z",
     "start_time": "2021-01-08T00:42:43.353707Z"
    }
   },
   "outputs": [
    {
     "data": {
      "text/html": [
       "<div>\n",
       "<style scoped>\n",
       "    .dataframe tbody tr th:only-of-type {\n",
       "        vertical-align: middle;\n",
       "    }\n",
       "\n",
       "    .dataframe tbody tr th {\n",
       "        vertical-align: top;\n",
       "    }\n",
       "\n",
       "    .dataframe thead th {\n",
       "        text-align: right;\n",
       "    }\n",
       "</style>\n",
       "<table border=\"1\" class=\"dataframe\">\n",
       "  <thead>\n",
       "    <tr style=\"text-align: right;\">\n",
       "      <th></th>\n",
       "      <th>label</th>\n",
       "      <th>merchant_id</th>\n",
       "      <th>prob</th>\n",
       "      <th>user_id</th>\n",
       "      <th>age_range</th>\n",
       "      <th>gender</th>\n",
       "    </tr>\n",
       "  </thead>\n",
       "  <tbody>\n",
       "    <tr>\n",
       "      <th>0</th>\n",
       "      <td>0.0</td>\n",
       "      <td>3906</td>\n",
       "      <td>NaN</td>\n",
       "      <td>34176</td>\n",
       "      <td>6.0</td>\n",
       "      <td>0.0</td>\n",
       "    </tr>\n",
       "    <tr>\n",
       "      <th>1</th>\n",
       "      <td>0.0</td>\n",
       "      <td>121</td>\n",
       "      <td>NaN</td>\n",
       "      <td>34176</td>\n",
       "      <td>6.0</td>\n",
       "      <td>0.0</td>\n",
       "    </tr>\n",
       "    <tr>\n",
       "      <th>2</th>\n",
       "      <td>1.0</td>\n",
       "      <td>4356</td>\n",
       "      <td>NaN</td>\n",
       "      <td>34176</td>\n",
       "      <td>6.0</td>\n",
       "      <td>0.0</td>\n",
       "    </tr>\n",
       "    <tr>\n",
       "      <th>3</th>\n",
       "      <td>0.0</td>\n",
       "      <td>2217</td>\n",
       "      <td>NaN</td>\n",
       "      <td>34176</td>\n",
       "      <td>6.0</td>\n",
       "      <td>0.0</td>\n",
       "    </tr>\n",
       "    <tr>\n",
       "      <th>4</th>\n",
       "      <td>0.0</td>\n",
       "      <td>4818</td>\n",
       "      <td>NaN</td>\n",
       "      <td>230784</td>\n",
       "      <td>0.0</td>\n",
       "      <td>0.0</td>\n",
       "    </tr>\n",
       "  </tbody>\n",
       "</table>\n",
       "</div>"
      ],
      "text/plain": [
       "   label  merchant_id  prob  user_id  age_range  gender\n",
       "0    0.0         3906   NaN    34176        6.0     0.0\n",
       "1    0.0          121   NaN    34176        6.0     0.0\n",
       "2    1.0         4356   NaN    34176        6.0     0.0\n",
       "3    0.0         2217   NaN    34176        6.0     0.0\n",
       "4    0.0         4818   NaN   230784        0.0     0.0"
      ]
     },
     "execution_count": 7,
     "metadata": {},
     "output_type": "execute_result"
    }
   ],
   "source": [
    "# 合并用户信息&全量数据集\n",
    "df_all_data = pd.merge(df_all_data, user_info, on='user_id', how='left')\n",
    "df_all_data.head()"
   ]
  },
  {
   "cell_type": "code",
   "execution_count": 8,
   "metadata": {
    "ExecuteTime": {
     "end_time": "2021-01-08T00:42:43.952414Z",
     "start_time": "2021-01-08T00:42:43.766921Z"
    }
   },
   "outputs": [
    {
     "data": {
      "text/plain": [
       "107"
      ]
     },
     "execution_count": 8,
     "metadata": {},
     "output_type": "execute_result"
    }
   ],
   "source": [
    "# 清除垃圾\n",
    "del train_data, test_data, user_info\n",
    "gc.collect()"
   ]
  },
  {
   "cell_type": "code",
   "execution_count": 9,
   "metadata": {
    "ExecuteTime": {
     "end_time": "2021-01-08T00:42:53.594598Z",
     "start_time": "2021-01-08T00:42:43.960254Z"
    }
   },
   "outputs": [
    {
     "data": {
      "text/html": [
       "<div>\n",
       "<style scoped>\n",
       "    .dataframe tbody tr th:only-of-type {\n",
       "        vertical-align: middle;\n",
       "    }\n",
       "\n",
       "    .dataframe tbody tr th {\n",
       "        vertical-align: top;\n",
       "    }\n",
       "\n",
       "    .dataframe thead th {\n",
       "        text-align: right;\n",
       "    }\n",
       "</style>\n",
       "<table border=\"1\" class=\"dataframe\">\n",
       "  <thead>\n",
       "    <tr style=\"text-align: right;\">\n",
       "      <th></th>\n",
       "      <th>user_id</th>\n",
       "      <th>item_id</th>\n",
       "      <th>cat_id</th>\n",
       "      <th>seller_id</th>\n",
       "      <th>brand_id</th>\n",
       "      <th>time_stamp</th>\n",
       "      <th>action_type</th>\n",
       "    </tr>\n",
       "  </thead>\n",
       "  <tbody>\n",
       "    <tr>\n",
       "      <th>23288890</th>\n",
       "      <td>1</td>\n",
       "      <td>181459</td>\n",
       "      <td>276</td>\n",
       "      <td>2245</td>\n",
       "      <td>4752.0</td>\n",
       "      <td>1009</td>\n",
       "      <td>0</td>\n",
       "    </tr>\n",
       "    <tr>\n",
       "      <th>23288891</th>\n",
       "      <td>1</td>\n",
       "      <td>779078</td>\n",
       "      <td>276</td>\n",
       "      <td>2245</td>\n",
       "      <td>4752.0</td>\n",
       "      <td>1009</td>\n",
       "      <td>0</td>\n",
       "    </tr>\n",
       "    <tr>\n",
       "      <th>23288893</th>\n",
       "      <td>1</td>\n",
       "      <td>452837</td>\n",
       "      <td>276</td>\n",
       "      <td>2245</td>\n",
       "      <td>4752.0</td>\n",
       "      <td>1009</td>\n",
       "      <td>0</td>\n",
       "    </tr>\n",
       "    <tr>\n",
       "      <th>23288894</th>\n",
       "      <td>1</td>\n",
       "      <td>543397</td>\n",
       "      <td>276</td>\n",
       "      <td>2245</td>\n",
       "      <td>4752.0</td>\n",
       "      <td>1009</td>\n",
       "      <td>0</td>\n",
       "    </tr>\n",
       "    <tr>\n",
       "      <th>23288886</th>\n",
       "      <td>1</td>\n",
       "      <td>504149</td>\n",
       "      <td>1023</td>\n",
       "      <td>925</td>\n",
       "      <td>7400.0</td>\n",
       "      <td>1011</td>\n",
       "      <td>0</td>\n",
       "    </tr>\n",
       "  </tbody>\n",
       "</table>\n",
       "</div>"
      ],
      "text/plain": [
       "          user_id  item_id  cat_id  seller_id  brand_id  time_stamp  \\\n",
       "23288890        1   181459     276       2245    4752.0        1009   \n",
       "23288891        1   779078     276       2245    4752.0        1009   \n",
       "23288893        1   452837     276       2245    4752.0        1009   \n",
       "23288894        1   543397     276       2245    4752.0        1009   \n",
       "23288886        1   504149    1023        925    7400.0        1011   \n",
       "\n",
       "          action_type  \n",
       "23288890            0  \n",
       "23288891            0  \n",
       "23288893            0  \n",
       "23288894            0  \n",
       "23288886            0  "
      ]
     },
     "execution_count": 9,
     "metadata": {},
     "output_type": "execute_result"
    }
   ],
   "source": [
    "# 按照时间排序\n",
    "user_log = user_log.sort_values(by=['user_id', 'time_stamp'])\n",
    "user_log.head()"
   ]
  },
  {
   "cell_type": "code",
   "execution_count": 13,
   "metadata": {
    "ExecuteTime": {
     "end_time": "2021-01-08T00:58:17.629991Z",
     "start_time": "2021-01-08T00:56:06.234728Z"
    }
   },
   "outputs": [
    {
     "data": {
      "text/html": [
       "<div>\n",
       "<style scoped>\n",
       "    .dataframe tbody tr th:only-of-type {\n",
       "        vertical-align: middle;\n",
       "    }\n",
       "\n",
       "    .dataframe tbody tr th {\n",
       "        vertical-align: top;\n",
       "    }\n",
       "\n",
       "    .dataframe thead th {\n",
       "        text-align: right;\n",
       "    }\n",
       "</style>\n",
       "<table border=\"1\" class=\"dataframe\">\n",
       "  <thead>\n",
       "    <tr style=\"text-align: right;\">\n",
       "      <th></th>\n",
       "      <th>label</th>\n",
       "      <th>merchant_id</th>\n",
       "      <th>prob</th>\n",
       "      <th>user_id</th>\n",
       "      <th>age_range</th>\n",
       "      <th>gender</th>\n",
       "      <th>iten_path</th>\n",
       "      <th>cat_path</th>\n",
       "      <th>seller_path</th>\n",
       "      <th>brand_path</th>\n",
       "      <th>time_stamp_path</th>\n",
       "      <th>action_type_path</th>\n",
       "    </tr>\n",
       "  </thead>\n",
       "  <tbody>\n",
       "    <tr>\n",
       "      <th>0</th>\n",
       "      <td>0.0</td>\n",
       "      <td>3906</td>\n",
       "      <td>NaN</td>\n",
       "      <td>34176</td>\n",
       "      <td>6.0</td>\n",
       "      <td>0.0</td>\n",
       "      <td>581818 879005 1011673 52343 277305 1011348 929...</td>\n",
       "      <td>1505 662 1505 662 1095 1505 662 1095 1505 1505...</td>\n",
       "      <td>416 3606 416 3760 3606 416 1926 3004 416 416 4...</td>\n",
       "      <td>4014.0 33.0 4014.0 3738.0 33.0 4014.0 5472.0 5...</td>\n",
       "      <td>521 521 521 521 521 521 521 521 521 521 521 52...</td>\n",
       "      <td>0 0 0 0 0 0 0 0 0 2 0 0 0 0 0 0 0 0 0 0 2 0 0 ...</td>\n",
       "    </tr>\n",
       "    <tr>\n",
       "      <th>1</th>\n",
       "      <td>0.0</td>\n",
       "      <td>121</td>\n",
       "      <td>NaN</td>\n",
       "      <td>34176</td>\n",
       "      <td>6.0</td>\n",
       "      <td>0.0</td>\n",
       "      <td>581818 879005 1011673 52343 277305 1011348 929...</td>\n",
       "      <td>1505 662 1505 662 1095 1505 662 1095 1505 1505...</td>\n",
       "      <td>416 3606 416 3760 3606 416 1926 3004 416 416 4...</td>\n",
       "      <td>4014.0 33.0 4014.0 3738.0 33.0 4014.0 5472.0 5...</td>\n",
       "      <td>521 521 521 521 521 521 521 521 521 521 521 52...</td>\n",
       "      <td>0 0 0 0 0 0 0 0 0 2 0 0 0 0 0 0 0 0 0 0 2 0 0 ...</td>\n",
       "    </tr>\n",
       "    <tr>\n",
       "      <th>2</th>\n",
       "      <td>1.0</td>\n",
       "      <td>4356</td>\n",
       "      <td>NaN</td>\n",
       "      <td>34176</td>\n",
       "      <td>6.0</td>\n",
       "      <td>0.0</td>\n",
       "      <td>581818 879005 1011673 52343 277305 1011348 929...</td>\n",
       "      <td>1505 662 1505 662 1095 1505 662 1095 1505 1505...</td>\n",
       "      <td>416 3606 416 3760 3606 416 1926 3004 416 416 4...</td>\n",
       "      <td>4014.0 33.0 4014.0 3738.0 33.0 4014.0 5472.0 5...</td>\n",
       "      <td>521 521 521 521 521 521 521 521 521 521 521 52...</td>\n",
       "      <td>0 0 0 0 0 0 0 0 0 2 0 0 0 0 0 0 0 0 0 0 2 0 0 ...</td>\n",
       "    </tr>\n",
       "    <tr>\n",
       "      <th>3</th>\n",
       "      <td>0.0</td>\n",
       "      <td>2217</td>\n",
       "      <td>NaN</td>\n",
       "      <td>34176</td>\n",
       "      <td>6.0</td>\n",
       "      <td>0.0</td>\n",
       "      <td>581818 879005 1011673 52343 277305 1011348 929...</td>\n",
       "      <td>1505 662 1505 662 1095 1505 662 1095 1505 1505...</td>\n",
       "      <td>416 3606 416 3760 3606 416 1926 3004 416 416 4...</td>\n",
       "      <td>4014.0 33.0 4014.0 3738.0 33.0 4014.0 5472.0 5...</td>\n",
       "      <td>521 521 521 521 521 521 521 521 521 521 521 52...</td>\n",
       "      <td>0 0 0 0 0 0 0 0 0 2 0 0 0 0 0 0 0 0 0 0 2 0 0 ...</td>\n",
       "    </tr>\n",
       "    <tr>\n",
       "      <th>4</th>\n",
       "      <td>0.0</td>\n",
       "      <td>4818</td>\n",
       "      <td>NaN</td>\n",
       "      <td>230784</td>\n",
       "      <td>0.0</td>\n",
       "      <td>0.0</td>\n",
       "      <td>191923 191923 964906 229470 813085 964906 2642...</td>\n",
       "      <td>1023 1023 662 664 1544 662 662 662 662 737 107...</td>\n",
       "      <td>3545 3545 4566 2537 2420 4566 2963 3931 3931 3...</td>\n",
       "      <td>5860.0 5860.0 6320.0 6064.0 8036.0 6320.0 6804...</td>\n",
       "      <td>601 601 614 614 614 618 618 618 618 622 624 62...</td>\n",
       "      <td>0 2 0 0 0 0 0 0 0 0 2 2 0 0 0 0 0 0 0 0 2 0 0 ...</td>\n",
       "    </tr>\n",
       "  </tbody>\n",
       "</table>\n",
       "</div>"
      ],
      "text/plain": [
       "   label  merchant_id  prob  user_id  age_range  gender  \\\n",
       "0    0.0         3906   NaN    34176        6.0     0.0   \n",
       "1    0.0          121   NaN    34176        6.0     0.0   \n",
       "2    1.0         4356   NaN    34176        6.0     0.0   \n",
       "3    0.0         2217   NaN    34176        6.0     0.0   \n",
       "4    0.0         4818   NaN   230784        0.0     0.0   \n",
       "\n",
       "                                           iten_path  \\\n",
       "0  581818 879005 1011673 52343 277305 1011348 929...   \n",
       "1  581818 879005 1011673 52343 277305 1011348 929...   \n",
       "2  581818 879005 1011673 52343 277305 1011348 929...   \n",
       "3  581818 879005 1011673 52343 277305 1011348 929...   \n",
       "4  191923 191923 964906 229470 813085 964906 2642...   \n",
       "\n",
       "                                            cat_path  \\\n",
       "0  1505 662 1505 662 1095 1505 662 1095 1505 1505...   \n",
       "1  1505 662 1505 662 1095 1505 662 1095 1505 1505...   \n",
       "2  1505 662 1505 662 1095 1505 662 1095 1505 1505...   \n",
       "3  1505 662 1505 662 1095 1505 662 1095 1505 1505...   \n",
       "4  1023 1023 662 664 1544 662 662 662 662 737 107...   \n",
       "\n",
       "                                         seller_path  \\\n",
       "0  416 3606 416 3760 3606 416 1926 3004 416 416 4...   \n",
       "1  416 3606 416 3760 3606 416 1926 3004 416 416 4...   \n",
       "2  416 3606 416 3760 3606 416 1926 3004 416 416 4...   \n",
       "3  416 3606 416 3760 3606 416 1926 3004 416 416 4...   \n",
       "4  3545 3545 4566 2537 2420 4566 2963 3931 3931 3...   \n",
       "\n",
       "                                          brand_path  \\\n",
       "0  4014.0 33.0 4014.0 3738.0 33.0 4014.0 5472.0 5...   \n",
       "1  4014.0 33.0 4014.0 3738.0 33.0 4014.0 5472.0 5...   \n",
       "2  4014.0 33.0 4014.0 3738.0 33.0 4014.0 5472.0 5...   \n",
       "3  4014.0 33.0 4014.0 3738.0 33.0 4014.0 5472.0 5...   \n",
       "4  5860.0 5860.0 6320.0 6064.0 8036.0 6320.0 6804...   \n",
       "\n",
       "                                     time_stamp_path  \\\n",
       "0  521 521 521 521 521 521 521 521 521 521 521 52...   \n",
       "1  521 521 521 521 521 521 521 521 521 521 521 52...   \n",
       "2  521 521 521 521 521 521 521 521 521 521 521 52...   \n",
       "3  521 521 521 521 521 521 521 521 521 521 521 52...   \n",
       "4  601 601 614 614 614 618 618 618 618 622 624 62...   \n",
       "\n",
       "                                    action_type_path  \n",
       "0  0 0 0 0 0 0 0 0 0 2 0 0 0 0 0 0 0 0 0 0 2 0 0 ...  \n",
       "1  0 0 0 0 0 0 0 0 0 2 0 0 0 0 0 0 0 0 0 0 2 0 0 ...  \n",
       "2  0 0 0 0 0 0 0 0 0 2 0 0 0 0 0 0 0 0 0 0 2 0 0 ...  \n",
       "3  0 0 0 0 0 0 0 0 0 2 0 0 0 0 0 0 0 0 0 0 2 0 0 ...  \n",
       "4  0 2 0 0 0 0 0 0 0 0 2 2 0 0 0 0 0 0 0 0 2 0 0 ...  "
      ]
     },
     "execution_count": 13,
     "metadata": {},
     "output_type": "execute_result"
    }
   ],
   "source": [
    "# 对于每个用户合并字段\n",
    "# cat_id, seller_id, brand_id, time_stamp, action_type\n",
    "list_join_func = lambda x: \" \".join([str(i) for i in x])\n",
    "\n",
    "agg_dict = {\n",
    "    'item_id': list_join_func,\n",
    "    'cat_id': list_join_func,\n",
    "    'seller_id': list_join_func,\n",
    "    'brand_id': list_join_func, \n",
    "    'time_stamp': list_join_func, \n",
    "    'action_type': list_join_func\n",
    "}\n",
    "\n",
    "rename_dict = {\n",
    "    'item_id': 'iten_path',\n",
    "    'cat_id': 'cat_path',\n",
    "    'seller_id': 'seller_path',\n",
    "    'brand_id': 'brand_path', \n",
    "    'time_stamp': 'time_stamp_path', \n",
    "    'action_type': 'action_type_path'\n",
    "}\n",
    "\n",
    "def merga_list(df_id, join_col, df_data, agg_dict, rename_dict):\n",
    "    \n",
    "    df_data = df_data.groupby(join_col).agg(agg_dict).reset_index().rename(columns=rename_dict)\n",
    "    df_id = pd.merge(df_id, df_data, on=join_col, how='left')\n",
    "    \n",
    "    return df_id\n",
    "    \n",
    "\n",
    "df_all_data = merga_list(df_all_data, 'user_id', user_log, agg_dict, rename_dict)\n",
    "df_all_data.head()"
   ]
  },
  {
   "cell_type": "code",
   "execution_count": 14,
   "metadata": {
    "ExecuteTime": {
     "end_time": "2021-01-08T00:58:18.018389Z",
     "start_time": "2021-01-08T00:58:17.636628Z"
    }
   },
   "outputs": [
    {
     "data": {
      "text/plain": [
       "2866"
      ]
     },
     "execution_count": 14,
     "metadata": {},
     "output_type": "execute_result"
    }
   ],
   "source": [
    "# 删除数据并回收内存\n",
    "del user_log\n",
    "gc.collect()"
   ]
  },
  {
   "cell_type": "markdown",
   "metadata": {
    "ExecuteTime": {
     "end_time": "2021-01-08T01:01:29.315736Z",
     "start_time": "2021-01-08T01:01:29.305542Z"
    }
   },
   "source": [
    "# 定义特征统计函数\n",
    "## 定义统计函数"
   ]
  },
  {
   "cell_type": "code",
   "execution_count": null,
   "metadata": {},
   "outputs": [],
   "source": [
    "# total count of data\n",
    "def cnt_(x):\n",
    "    try:\n",
    "        return len(x.split(' '))\n",
    "    except:\n",
    "        return -1\n",
    "\n",
    "# number of unique element of data\n",
    "def unique_(x):\n",
    "    try:\n",
    "        return len(set(x.split(' ')))\n",
    "    except:\n",
    "        return -1\n",
    "    \n",
    "# maximum of data\n",
    "def max_(x):\n",
    "    try:\n",
    "        return np.max([float(i) for i in x.split(' ')])\n",
    "    except:\n",
    "        -1\n",
    "        \n",
    "# minimum of data\n",
    "def min_(x):\n",
    "    try:\n",
    "        return np.min([float(i) for i in x.split(' ')])\n",
    "    except:\n",
    "        -1\n",
    "        \n",
    "# standard deviation of data\n",
    "def std_(x):\n",
    "    try:\n",
    "        return np.std([float(i) for i in x.split(' ')])\n",
    "    except:\n",
    "        -1\n",
    "        \n",
    "# the top k element of data\n",
    "def most_n(x, n):\n",
    "    try:\n",
    "        return Counter(x.split(' ')).most_common(n)[n-1][0]\n",
    "    except:\n",
    "        -1\n",
    "        \n",
    "# total count of the top k element of data\n",
    "def most_n_cnt(x, n):\n",
    "    try:\n",
    "        return Counter(x.split(' ')).most_common(n)[n-1][1]\n",
    "    except:\n",
    "        -1\n"
   ]
  },
  {
   "cell_type": "code",
   "execution_count": 21,
   "metadata": {
    "ExecuteTime": {
     "end_time": "2021-01-08T04:22:29.559125Z",
     "start_time": "2021-01-08T04:22:29.547920Z"
    }
   },
   "outputs": [
    {
     "data": {
      "text/plain": [
       "'2'"
      ]
     },
     "execution_count": 21,
     "metadata": {},
     "output_type": "execute_result"
    }
   ],
   "source": [
    "Counter('1 2 8 10 13 20 20'.split(' ')).most_common(3)[3-1][0]   "
   ]
  },
  {
   "cell_type": "code",
   "execution_count": null,
   "metadata": {},
   "outputs": [],
   "source": []
  }
 ],
 "metadata": {
  "kernelspec": {
   "display_name": "Python 3",
   "language": "python",
   "name": "python3"
  },
  "language_info": {
   "codemirror_mode": {
    "name": "ipython",
    "version": 3
   },
   "file_extension": ".py",
   "mimetype": "text/x-python",
   "name": "python",
   "nbconvert_exporter": "python",
   "pygments_lexer": "ipython3",
   "version": "3.7.4"
  },
  "toc": {
   "base_numbering": 1,
   "nav_menu": {},
   "number_sections": true,
   "sideBar": true,
   "skip_h1_title": false,
   "title_cell": "Table of Contents",
   "title_sidebar": "Contents",
   "toc_cell": false,
   "toc_position": {},
   "toc_section_display": true,
   "toc_window_display": true
  }
 },
 "nbformat": 4,
 "nbformat_minor": 2
}
